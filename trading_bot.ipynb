{
 "cells": [
  {
   "cell_type": "code",
   "execution_count": null,
   "metadata": {},
   "outputs": [],
   "source": [
    "import numpy as np \n",
    "import matplotlib.pyplot as plt \n",
    "import seaborn as sns\n",
    "import pandas as pd\n",
    "\n",
    "plt.style.use('fivethirtyeight')\n",
    "\n",
    "from sklearn.metrics import mean_squared_error\n",
    "from keras.layers import Dense, Activation, Dropout  \n",
    "from keras.layers import LSTM\n",
    "from keras.models import Sequential\n",
    "from datetime import datetime\n",
    "from binance.client import Client \n",
    "import os\n",
    "from dotenv import load_dotenv\n",
    "load_dotenv()"
   ]
  },
  {
   "cell_type": "code",
   "execution_count": null,
   "metadata": {},
   "outputs": [],
   "source": [
    "api_key = os.getenv(\"API_KEY\")\n",
    "api_secret = os.getenv(\"API_SECRET\")\n",
    "\n",
    "client = Client(api_key, api_secret)"
   ]
  },
  {
   "cell_type": "code",
   "execution_count": null,
   "metadata": {},
   "outputs": [],
   "source": [
    "candles = client.get_klines(symbol='BTCUSDT', interval=Client.KLINE_INTERVAL_5MINUTE, limit=1000)"
   ]
  },
  {
   "cell_type": "code",
   "execution_count": null,
   "metadata": {},
   "outputs": [],
   "source": [
    "len(candles)"
   ]
  },
  {
   "cell_type": "code",
   "execution_count": null,
   "metadata": {},
   "outputs": [],
   "source": [
    "candles[999]"
   ]
  },
  {
   "cell_type": "code",
   "execution_count": null,
   "metadata": {},
   "outputs": [],
   "source": [
    "price = np.array([float(candles[i][4]) for i in range(1000)])"
   ]
  },
  {
   "cell_type": "code",
   "execution_count": null,
   "metadata": {},
   "outputs": [],
   "source": [
    "time = np.array([int(candles[i][0]) for i in range(1000)])\n",
    "\n",
    "t = np.array([datetime.fromtimestamp(time[i]/1000).strftime('%H:%M:%S') for i in range(1000)])"
   ]
  },
  {
   "cell_type": "code",
   "execution_count": null,
   "metadata": {},
   "outputs": [],
   "source": [
    "price.shape\n",
    "print(price)"
   ]
  },
  {
   "cell_type": "code",
   "execution_count": null,
   "metadata": {},
   "outputs": [],
   "source": [
    "plt.figure(figsize=(8,5))\n",
    "plt.xlabel('Time Step')\n",
    "plt.ylabel('Bitcoin Price $')\n",
    "plt.plot(price)"
   ]
  },
  {
   "cell_type": "code",
   "execution_count": null,
   "metadata": {},
   "outputs": [],
   "source": [
    "timeframe = pd.DataFrame({'Time':t,'Price $BTC':price})\n",
    "timeframe"
   ]
  },
  {
   "cell_type": "code",
   "execution_count": null,
   "metadata": {},
   "outputs": [],
   "source": [
    "price = price.reshape(1000,1)\n",
    "print(price)"
   ]
  },
  {
   "cell_type": "code",
   "execution_count": null,
   "metadata": {},
   "outputs": [],
   "source": [
    "from sklearn.preprocessing import StandardScaler\n",
    "\n",
    "scaler = StandardScaler()\n"
   ]
  },
  {
   "cell_type": "code",
   "execution_count": null,
   "metadata": {},
   "outputs": [],
   "source": [
    "scaler.fit(price[:750])"
   ]
  },
  {
   "cell_type": "code",
   "execution_count": null,
   "metadata": {},
   "outputs": [],
   "source": [
    "price = scaler.transform(price)"
   ]
  },
  {
   "cell_type": "code",
   "execution_count": null,
   "metadata": {},
   "outputs": [],
   "source": [
    "df = pd.DataFrame(price.reshape(200,5),columns=['First','Second','Third','Fourth','Target'])"
   ]
  },
  {
   "cell_type": "code",
   "execution_count": null,
   "metadata": {},
   "outputs": [],
   "source": [
    "df.head()"
   ]
  },
  {
   "cell_type": "markdown",
   "metadata": {},
   "source": [
    "## Train Test Split\n"
   ]
  },
  {
   "cell_type": "code",
   "execution_count": null,
   "metadata": {},
   "outputs": [],
   "source": [
    "x_train = df.iloc[:149,:4]\n",
    "y_train = df.iloc[:149,-1]\n",
    "\n",
    "x_test = df.iloc[145:199,:4]\n",
    "y_test = df.iloc[145:199,-1]"
   ]
  },
  {
   "cell_type": "code",
   "execution_count": null,
   "metadata": {},
   "outputs": [],
   "source": [
    "x_train = np.array(x_train)\n",
    "y_train = np.array(y_train)\n",
    "x_test = np.array(x_test)\n",
    "y_test = np.array(y_test)"
   ]
  },
  {
   "cell_type": "code",
   "execution_count": null,
   "metadata": {},
   "outputs": [],
   "source": [
    "x_train = np.reshape(x_train, (x_train.shape[0], x_train.shape[1], 1))\n",
    "x_test  = np.reshape(x_test, (x_test.shape[0], x_test.shape[1], 1))"
   ]
  },
  {
   "cell_type": "code",
   "execution_count": null,
   "metadata": {},
   "outputs": [],
   "source": [
    "x_train.shape , x_test.shape"
   ]
  },
  {
   "cell_type": "code",
   "execution_count": null,
   "metadata": {},
   "outputs": [],
   "source": [
    "from keras.models import Sequential\n",
    "from keras.layers import LSTM, Dense, Input\n",
    "\n",
    "model = Sequential()\n",
    "\n",
    "model.add(Input(shape=(4, 1)))\n",
    "\n",
    "model.add(LSTM(40, return_sequences=True))\n",
    "\n",
    "model.add(LSTM(80, return_sequences=False))\n",
    "\n",
    "model.add(Dense(1, activation='linear'))\n",
    "\n",
    "model.compile(loss='mse', optimizer='rmsprop')\n",
    "\n",
    "model.summary()"
   ]
  },
  {
   "cell_type": "code",
   "execution_count": null,
   "metadata": {},
   "outputs": [],
   "source": [
    "model.fit(x_train, y_train, batch_size=5,epochs=500)"
   ]
  },
  {
   "cell_type": "code",
   "execution_count": null,
   "metadata": {},
   "outputs": [],
   "source": [
    "y_pred = model.predict(x_test)\n",
    "print(y_pred)"
   ]
  },
  {
   "cell_type": "code",
   "execution_count": null,
   "metadata": {},
   "outputs": [],
   "source": [
    "plt.figure(figsize=[8,5])\n",
    "plt.title('Model Fit')\n",
    "plt.xlabel('Time Step')\n",
    "plt.ylabel('Normalized Price')\n",
    "plt.plot(y_test, label='True')\n",
    "plt.plot(y_pred, label='Prediction')\n",
    "plt.legend()"
   ]
  },
  {
   "cell_type": "code",
   "execution_count": null,
   "metadata": {},
   "outputs": [],
   "source": [
    "y_test_reshaped = y_test.reshape(-1, 1)\n",
    "y_pred_reshaped = y_pred.reshape(-1, 1)\n",
    "\n",
    "y_test_inverse = scaler.inverse_transform(y_test_reshaped)\n",
    "y_pred_inverse = scaler.inverse_transform(y_pred_reshaped)\n",
    "\n",
    "y_test_inverse = y_test_inverse.flatten()\n",
    "y_pred_inverse = y_pred_inverse.flatten()\n",
    "\n",
    "plt.figure(figsize=[8, 5])\n",
    "plt.title('Model Fit')\n",
    "plt.xlabel('Time Step')\n",
    "plt.ylabel('Price')\n",
    "plt.plot(y_test_inverse, label='True')\n",
    "plt.plot(y_pred_inverse, label='Prediction')\n",
    "plt.legend()\n",
    "plt.show()"
   ]
  },
  {
   "cell_type": "code",
   "execution_count": null,
   "metadata": {},
   "outputs": [],
   "source": [
    "testScore = np.sqrt(mean_squared_error(y_test_reshaped, y_pred_reshaped))\n",
    "print('Test Score: %.2f RMSE' % testScore)"
   ]
  },
  {
   "cell_type": "code",
   "execution_count": null,
   "metadata": {},
   "outputs": [],
   "source": [
    "from sklearn.metrics import r2_score"
   ]
  },
  {
   "cell_type": "code",
   "execution_count": null,
   "metadata": {},
   "outputs": [],
   "source": [
    "print('RSquared :','{:.2%}'.format(r2_score(y_test,y_pred)))"
   ]
  },
  {
   "cell_type": "code",
   "execution_count": null,
   "metadata": {},
   "outputs": [],
   "source": [
    "model.save(\"Bitcoin_model.h5\")"
   ]
  },
  {
   "cell_type": "markdown",
   "metadata": {},
   "source": [
    "## Second Model"
   ]
  },
  {
   "cell_type": "code",
   "execution_count": null,
   "metadata": {},
   "outputs": [],
   "source": [
    "from sklearn.svm import SVR"
   ]
  },
  {
   "cell_type": "code",
   "execution_count": null,
   "metadata": {},
   "outputs": [],
   "source": [
    "trainX = df.iloc[:149,:4]\n",
    "trainY = df.iloc[:149,-1]\n",
    "\n",
    "testX = df.iloc[150:199,:4]\n",
    "testY = df.iloc[150:199,-1]"
   ]
  },
  {
   "cell_type": "code",
   "execution_count": null,
   "metadata": {},
   "outputs": [],
   "source": [
    "svr_linear = SVR(kernel='linear',C=1e3, gamma=0.1)\n",
    "svr_linear.fit(trainX,trainY)"
   ]
  },
  {
   "cell_type": "code",
   "execution_count": null,
   "metadata": {},
   "outputs": [],
   "source": [
    "predY = svr_linear.predict(testX) \n",
    "print(predY)"
   ]
  },
  {
   "cell_type": "code",
   "execution_count": null,
   "metadata": {},
   "outputs": [],
   "source": [
    "testY_array = np.array(testY).reshape(-1, 1)\n",
    "predY_array = np.array(predY).reshape(-1, 1)\n",
    "\n",
    "testY_inverse = scaler.inverse_transform(testY_array)\n",
    "predY_inverse = scaler.inverse_transform(predY_array)\n",
    "\n",
    "testY_inverse = testY_inverse.flatten()\n",
    "predY_inverse = predY_inverse.flatten()\n",
    "\n",
    "plt.figure(figsize=[8, 5])\n",
    "plt.title('Model Fit')\n",
    "plt.xlabel('Time Step')\n",
    "plt.ylabel('Price')\n",
    "plt.plot(testY_inverse, label='True')\n",
    "plt.plot(predY_inverse, label='Prediction')\n",
    "plt.legend()\n",
    "plt.show()"
   ]
  },
  {
   "cell_type": "code",
   "execution_count": null,
   "metadata": {},
   "outputs": [],
   "source": [
    "testY_array = np.array(testY).reshape(-1, 1)\n",
    "predY_array = np.array(predY).reshape(-1, 1)\n",
    "\n",
    "testY_inverse = scaler.inverse_transform(testY_array)\n",
    "predY_inverse = scaler.inverse_transform(predY_array)\n",
    "\n",
    "testScore = np.sqrt(mean_squared_error(testY_inverse, predY_inverse))\n",
    "print('Test Score: %.2f RMSE' % (testScore))\n"
   ]
  },
  {
   "cell_type": "code",
   "execution_count": null,
   "metadata": {},
   "outputs": [],
   "source": [
    "print('RSquared :','{:.2%}'.format(r2_score(testY,predY)))"
   ]
  },
  {
   "cell_type": "markdown",
   "metadata": {},
   "source": [
    "## Hyperparameter tuning\n"
   ]
  },
  {
   "cell_type": "code",
   "execution_count": null,
   "metadata": {},
   "outputs": [],
   "source": [
    "param_grid = {\"C\": [1e-2,1e-1,1e0, 1e1, 1e2, 1e3, 1e4],\n",
    "              \"gamma\": np.logspace(-2, 2, 50),\n",
    "             'epsilon':[0.1,0.2,0.5,0.3]}\n",
    "\n",
    "from sklearn.model_selection import RandomizedSearchCV"
   ]
  },
  {
   "cell_type": "code",
   "execution_count": null,
   "metadata": {},
   "outputs": [],
   "source": [
    "svm_model = SVR(kernel='linear')"
   ]
  },
  {
   "cell_type": "code",
   "execution_count": null,
   "metadata": {},
   "outputs": [],
   "source": [
    "grid_search = RandomizedSearchCV(svm_model,param_grid,scoring='r2',n_jobs=-1)\n",
    "\n",
    "grid_search.fit(trainX,trainY)\n",
    "\n",
    "print(grid_search.best_estimator_)"
   ]
  },
  {
   "cell_type": "code",
   "execution_count": null,
   "metadata": {},
   "outputs": [],
   "source": [
    "svm_model = SVR(C=10000.0, cache_size=200, coef0=0.0, degree=3, epsilon=0.3, gamma=0.517947467923121,\n",
    "    kernel='linear', max_iter=-1, shrinking=True, tol=0.001, verbose=False)\n",
    "\n",
    "svm_model.fit(trainX,trainY)\n",
    "\n",
    "pred = svm_model.predict(testX)"
   ]
  },
  {
   "cell_type": "code",
   "execution_count": null,
   "metadata": {},
   "outputs": [],
   "source": [
    "testY_array = np.array(testY).reshape(-1, 1)\n",
    "pred_array = np.array(pred).reshape(-1, 1)\n",
    "\n",
    "testY_inverse = scaler.inverse_transform(testY_array)\n",
    "pred_inverse = scaler.inverse_transform(pred_array)\n",
    "\n",
    "testY_inverse_flat = testY_inverse.flatten()\n",
    "pred_inverse_flat = pred_inverse.flatten()\n",
    "\n",
    "testScore = np.sqrt(mean_squared_error(testY_inverse_flat, pred_inverse_flat))\n",
    "print('Test Score: %.2f RMSE' % (testScore))\n",
    "\n"
   ]
  },
  {
   "cell_type": "code",
   "execution_count": null,
   "metadata": {},
   "outputs": [],
   "source": [
    "print('RSquared :','{:.2%}'.format(r2_score(testY,pred)))"
   ]
  },
  {
   "cell_type": "code",
   "execution_count": null,
   "metadata": {},
   "outputs": [],
   "source": [
    "plt.figure(figsize=[8,5])\n",
    "plt.title('Model Fit')\n",
    "plt.xlabel('Time Step')\n",
    "plt.ylabel('Price')\n",
    "plt.plot(scaler.inverse_transform(testY.values.reshape(-1, 1)), label='True')\n",
    "plt.plot(scaler.inverse_transform(pred.reshape(-1, 1)), label='Prediction')\n",
    "plt.legend()"
   ]
  },
  {
   "cell_type": "markdown",
   "metadata": {},
   "source": [
    "## Ridge Regression"
   ]
  },
  {
   "cell_type": "code",
   "execution_count": null,
   "metadata": {},
   "outputs": [],
   "source": [
    "from sklearn.linear_model import RidgeCV"
   ]
  },
  {
   "cell_type": "code",
   "execution_count": null,
   "metadata": {},
   "outputs": [],
   "source": [
    "ridge = RidgeCV()"
   ]
  },
  {
   "cell_type": "code",
   "execution_count": null,
   "metadata": {},
   "outputs": [],
   "source": [
    "ridge.fit(trainX,trainY)\n",
    "\n",
    "Rpred = ridge.predict(testX)"
   ]
  },
  {
   "cell_type": "code",
   "execution_count": null,
   "metadata": {},
   "outputs": [],
   "source": [
    "testY_array = np.array(testY).reshape(-1, 1)\n",
    "Rpred_array = np.array(Rpred).reshape(-1, 1)\n",
    "\n",
    "testY_inverse = scaler.inverse_transform(testY_array)\n",
    "Rpred_inverse = scaler.inverse_transform(Rpred_array)\n",
    "\n",
    "testY_inverse_flat = testY_inverse.flatten()\n",
    "Rpred_inverse_flat = Rpred_inverse.flatten()\n",
    "\n",
    "testScore = np.sqrt(mean_squared_error(testY_inverse_flat, Rpred_inverse_flat))\n",
    "print('Test Score: %.2f RMSE' % (testScore))"
   ]
  },
  {
   "cell_type": "code",
   "execution_count": null,
   "metadata": {},
   "outputs": [],
   "source": [
    "print('RSquared :','{:.2%}'.format(r2_score(testY,Rpred)))"
   ]
  },
  {
   "cell_type": "code",
   "execution_count": null,
   "metadata": {},
   "outputs": [],
   "source": [
    "plt.figure(figsize=[8,5])\n",
    "plt.title('Model Fit')\n",
    "plt.xlabel('Time Step')\n",
    "plt.ylabel('Price')\n",
    "plt.plot(scaler.inverse_transform(testY.values.reshape(-1, 1)), label='True')\n",
    "plt.plot(scaler.inverse_transform(Rpred.reshape(-1, 1)), label='Prediction')\n",
    "plt.legend()"
   ]
  },
  {
   "cell_type": "markdown",
   "metadata": {},
   "source": [
    "## Hyperparameter Tuning"
   ]
  },
  {
   "cell_type": "code",
   "execution_count": null,
   "metadata": {},
   "outputs": [],
   "source": [
    "normal_price = np.array([float(candles[i][4]) for i in range(1000)])"
   ]
  },
  {
   "cell_type": "code",
   "execution_count": null,
   "metadata": {},
   "outputs": [],
   "source": [
    "data = pd.DataFrame(normal_price.reshape(200,5),columns=['First','Second','Third','Fourth','Target'])"
   ]
  },
  {
   "cell_type": "code",
   "execution_count": null,
   "metadata": {},
   "outputs": [],
   "source": [
    "data.head()"
   ]
  },
  {
   "cell_type": "code",
   "execution_count": null,
   "metadata": {},
   "outputs": [],
   "source": [
    "data.tail()"
   ]
  },
  {
   "cell_type": "code",
   "execution_count": null,
   "metadata": {},
   "outputs": [],
   "source": [
    "x_train_r = df.iloc[:149,:4]\n",
    "y_train_r = df.iloc[:149,-1]\n",
    "\n",
    "x_test_r = df.iloc[150:199,:4]\n",
    "y_test_r = df.iloc[150:199,-1]"
   ]
  },
  {
   "cell_type": "code",
   "execution_count": null,
   "metadata": {},
   "outputs": [],
   "source": [
    "from tpot import TPOTRegressor\n",
    "\n",
    "tpot = TPOTRegressor(generations=5, population_size=50, verbosity=2)\n",
    "tpot.fit(x_train_r, y_train_r)"
   ]
  },
  {
   "cell_type": "code",
   "execution_count": null,
   "metadata": {},
   "outputs": [],
   "source": [
    "tpred = tpot.predict(x_test_r)"
   ]
  },
  {
   "cell_type": "code",
   "execution_count": null,
   "metadata": {},
   "outputs": [],
   "source": [
    "testScore = np.sqrt(mean_squared_error(y_test_r,tpred))\n",
    "print('Test Score: %.2f RMSE' % (testScore))\n",
    "\n",
    "print('RSquared :','{:.2%}'.format(r2_score(y_test_r,tpred)))"
   ]
  },
  {
   "cell_type": "code",
   "execution_count": null,
   "metadata": {},
   "outputs": [],
   "source": [
    "plt.figure(figsize=[8,5])\n",
    "plt.title('Model Fit')\n",
    "plt.xlabel('Time Step')\n",
    "plt.ylabel('Price')\n",
    "plt.plot(np.array(y_test_r).reshape(49,), label='True')\n",
    "plt.plot(tpred, label='Prediction')\n",
    "plt.legend()"
   ]
  },
  {
   "cell_type": "markdown",
   "metadata": {},
   "source": [
    "## Trading bot"
   ]
  },
  {
   "cell_type": "code",
   "execution_count": null,
   "metadata": {},
   "outputs": [],
   "source": [
    "check = client.get_klines(symbol='BTCUSDT', interval=Client.KLINE_INTERVAL_5MINUTE, limit=1000)\n",
    "\n",
    "check[499]"
   ]
  },
  {
   "cell_type": "code",
   "execution_count": null,
   "metadata": {},
   "outputs": [],
   "source": [
    "index = [996, 997, 998, 999]\n",
    "\n",
    "candles = np.array([float(check[i][4]) for i in index]).reshape(-1, 1)\n",
    "\n",
    "candles_scaled = scaler.transform(candles)\n",
    "\n",
    "model_feed = candles_scaled.reshape(1, 4, 1)\n",
    "\n",
    "prediction_scaled = model.predict(model_feed)\n",
    "\n",
    "prediction = scaler.inverse_transform(prediction_scaled.reshape(-1, 1))\n",
    "\n",
    "predicted_price = prediction[0, 0]\n",
    "print(predicted_price)"
   ]
  },
  {
   "cell_type": "code",
   "execution_count": null,
   "metadata": {},
   "outputs": [],
   "source": [
    "import pandas as pd\n",
    "from datetime import datetime, timedelta\n",
    "import numpy as np\n",
    "from binance.client import Client\n",
    "import os\n",
    "from dotenv import load_dotenv\n",
    "import time  \n",
    "import tensorflow as tf\n",
    "\n",
    "tf.keras.utils.disable_interactive_logging()\n",
    "\n",
    "load_dotenv()\n",
    "\n",
    "api_key = os.getenv(\"API_KEY\")\n",
    "api_secret = os.getenv(\"API_SECRET\")\n",
    "\n",
    "client = Client(api_key, api_secret)\n",
    "\n",
    "symbol = 'BTCUSDT'\n",
    "quantity = '0.0001' \n",
    "position = None \n",
    "index = [996, 997, 998, 999]\n",
    "\n",
    "trades_df = pd.DataFrame(columns=['buy_price', 'buy_time', 'sell_price', 'sell_time', 'profit', 'profit_before_fees', 'direction', 'sell_reason'])\n",
    "\n",
    "start_time = datetime.now()\n",
    "\n",
    "total_profit = 0\n",
    "total_profit_before_fees = 0\n",
    "successful_trades = 0\n",
    "failed_trades = 0\n",
    "\n",
    "fee_rate = 0.00075  \n",
    "profit_threshold = 150  \n",
    "stop_loss_threshold = 150 \n",
    "\n",
    "time_limit = timedelta(hours=1)\n",
    "\n",
    "while datetime.now() < start_time + time_limit or position:\n",
    "    try:\n",
    "        price = client.get_recent_trades(symbol=symbol)\n",
    "        candle = client.get_klines(symbol=symbol, interval=Client.KLINE_INTERVAL_5MINUTE, limit=1000)\n",
    "        \n",
    "        candles = np.array([float(candle[i][4]) for i in index]).reshape(-1, 1)\n",
    "        candles_scaled = scaler.transform(candles)\n",
    "        model_feed = candles_scaled.reshape(1, 4, 1)\n",
    "\n",
    "        predicted_price = float(scaler.inverse_transform(model.predict(model_feed))[0][0])\n",
    "        current_price = float(price[-1]['price'])\n",
    "\n",
    "        if not position and datetime.now() < start_time + time_limit:\n",
    "            if predicted_price >= current_price + profit_threshold:  \n",
    "                print(f\"Predicted price: {predicted_price}, Current price: {current_price}\")\n",
    "                position = 'long'\n",
    "                buy_price = float(client.get_order_book(symbol=symbol)['asks'][0][0])\n",
    "                buy_time = datetime.now()\n",
    "                stop_loss_price = buy_price - stop_loss_threshold\n",
    "                # client.order_limit_buy(symbol=symbol, quantity=quantity, price=buy_price)\n",
    "                print('Long position taken @', buy_price, 'USDT, Stop-Loss:', stop_loss_price)\n",
    "\n",
    "            elif predicted_price <= current_price - profit_threshold:  \n",
    "                print(f\"Predicted price: {predicted_price}, Current price: {current_price}\")\n",
    "                position = 'short'\n",
    "                sell_price = float(client.get_order_book(symbol=symbol)['bids'][0][0])\n",
    "                sell_time = datetime.now()\n",
    "                stop_loss_price = sell_price + stop_loss_threshold\n",
    "                # client.order_limit_sell(symbol=symbol, quantity=quantity, price=sell_price)\n",
    "                print('Short position taken @', sell_price, 'USDT, Stop-Loss:', stop_loss_price)\n",
    "\n",
    "        if position:\n",
    "            current_time = datetime.now()\n",
    "            current_price = float(price[-1]['price'])\n",
    "            sell_reason = \"\"  \n",
    "\n",
    "            if position == 'long':\n",
    "                if current_price < stop_loss_price:\n",
    "                    sell_reason = \"Long position stop-loss triggered\"\n",
    "                    position = None\n",
    "                elif (current_price - buy_price) >= profit_threshold:\n",
    "                    sell_reason = \"Long position profit target reached\"\n",
    "                    position = None\n",
    "                elif (current_time - buy_time) >= timedelta(minutes=5):\n",
    "                    sell_reason = \"Long position time limit reached\"\n",
    "                    position = None\n",
    "                \n",
    "                if position is None:  \n",
    "                    sell_price = float(client.get_order_book(symbol=symbol)['bids'][0][0])\n",
    "                    sell_time = current_time\n",
    "                    #client.order_limit_sell(symbol=symbol, quantity=quantity, price=sell_price)\n",
    "\n",
    "            elif position == 'short':\n",
    "                if current_price > stop_loss_price:\n",
    "                    sell_reason = \"Short position stop-loss triggered\"\n",
    "                    position = None\n",
    "                elif (sell_price - current_price) >= profit_threshold:\n",
    "                    sell_reason = \"Short position profit target reached\"\n",
    "                    position = None\n",
    "                elif (current_time - sell_time) >= timedelta(minutes=5):\n",
    "                    sell_reason = \"Short position time limit reached\"\n",
    "                    position = None\n",
    "\n",
    "                if position is None:  \n",
    "                    buy_price = float(client.get_order_book(symbol=symbol)['asks'][0][0])\n",
    "                    buy_time = current_time\n",
    "                    #client.order_limit_buy(symbol=symbol, quantity=quantity, price=buy_price)\n",
    "\n",
    "            if position is None:  \n",
    "                profit_before_fees = (sell_price - buy_price) * float(quantity) if sell_reason.startswith(\"Long\") else (buy_price - sell_price) * float(quantity)\n",
    "                buy_cost = buy_price * float(quantity) * (1 + fee_rate)\n",
    "                sell_revenue = sell_price * float(quantity) * (1 - fee_rate)\n",
    "                profit = sell_revenue - buy_cost\n",
    "\n",
    "                total_profit += profit\n",
    "                total_profit_before_fees += profit_before_fees\n",
    "\n",
    "                if profit > 0:\n",
    "                    successful_trades += 1\n",
    "                else:\n",
    "                    failed_trades += 1\n",
    "\n",
    "                new_trade = pd.DataFrame({\n",
    "                    'buy_price': [buy_price],\n",
    "                    'buy_time': [buy_time],\n",
    "                    'sell_price': [sell_price],\n",
    "                    'sell_time': [sell_time],\n",
    "                    'profit': [profit],\n",
    "                    'profit_before_fees': [profit_before_fees],\n",
    "                    'sell_reason': [sell_reason],\n",
    "                    'direction': ['long' if sell_reason.startswith(\"Long\") else 'short']\n",
    "                })\n",
    "                trades_df = pd.concat([trades_df, new_trade], ignore_index=True)\n",
    "                \n",
    "                print(f'Sell @Limit Price: {sell_price} USDT, Timestamp: {str(sell_time)}, Reason: {sell_reason}, Profit: {profit} USDT')\n",
    "\n",
    "    except Exception as e:\n",
    "        print(\"An error occurred:\", e)\n",
    "        time.sleep(5) \n",
    "\n",
    "print(\"Total profit after fees:\", total_profit, \"USDT\")\n",
    "print(trades_df)\n"
   ]
  }
 ],
 "metadata": {
  "kernelspec": {
   "display_name": "trading_bot",
   "language": "python",
   "name": "python3"
  },
  "language_info": {
   "codemirror_mode": {
    "name": "ipython",
    "version": 3
   },
   "file_extension": ".py",
   "mimetype": "text/x-python",
   "name": "python",
   "nbconvert_exporter": "python",
   "pygments_lexer": "ipython3",
   "version": "3.12.3"
  }
 },
 "nbformat": 4,
 "nbformat_minor": 2
}
